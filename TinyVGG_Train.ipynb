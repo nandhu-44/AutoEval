{
  "cells": [
    {
      "cell_type": "code",
      "execution_count": null,
      "metadata": {
        "id": "2hvEUNdbcUWf"
      },
      "outputs": [],
      "source": [
        "import torch\n",
        "from torch import nn\n",
        "from torch.optim.lr_scheduler import StepLR  # or any other scheduler you prefer"
      ]
    },
    {
      "cell_type": "code",
      "execution_count": null,
      "metadata": {
        "id": "ICa1_0ty0s1-"
      },
      "outputs": [],
      "source": [
        "import torch\n",
        "from torch.utils.data import DataLoader\n",
        "from torchvision import datasets, transforms\n",
        "import matplotlib.pyplot as plt"
      ]
    },
    {
      "cell_type": "markdown",
      "metadata": {},
      "source": [
        "### Extract dataset.zip"
      ]
    },
    {
      "cell_type": "code",
      "execution_count": null,
      "metadata": {
        "id": "2z4s2IYU8gJ9"
      },
      "outputs": [],
      "source": [
        "from google.colab import drive\n",
        "import zipfile\n",
        "\n",
        "# Step 2: Extract the zip file using absolute paths\n",
        "zip_file_path = '/content/drive/MyDrive/AUTO EVAL/dataset.zip'\n",
        "destination_dir = '/content/drive/MyDrive/AUTO EVAL/dataset-grayscale'\n",
        "\n",
        "with zipfile.ZipFile(zip_file_path, 'r') as zip_ref:\n",
        "    zip_ref.extractall(destination_dir)"
      ]
    },
    {
      "cell_type": "code",
      "execution_count": null,
      "metadata": {
        "colab": {
          "base_uri": "https://localhost:8080/"
        },
        "id": "m-R8iF2cxXUK",
        "outputId": "eee483e7-64d4-45db-ebb5-40a0ddccff66"
      },
      "outputs": [
        {
          "data": {
            "text/plain": [
              "('/content/drive/MyDrive/AUTO EVAL/dataset-grayscale/train',\n",
              " '/content/drive/MyDrive/AUTO EVAL/dataset-grayscale/test')"
            ]
          },
          "execution_count": 4,
          "metadata": {},
          "output_type": "execute_result"
        }
      ],
      "source": [
        "train_dir = \"/content/drive/MyDrive/AUTO EVAL/dataset-grayscale/train\"\n",
        "test_dir = \"/content/drive/MyDrive/AUTO EVAL/dataset-grayscale/test\"\n",
        "train_dir, test_dir"
      ]
    },
    {
      "cell_type": "markdown",
      "metadata": {
        "id": "rwdgu52noB_a"
      },
      "source": [
        "### Data augmentation using _torchvision.transforms_\n",
        "torchvision.transforms contains many pre-built methods for formatting images, turning them into tensors and even manipulating them for data augmentation :\n",
        "\n",
        "\n",
        "\n",
        "*   Resize the image to 64x64\n",
        "*   Apply random augmentations\n",
        "*   Convert the images to tensors\n",
        "\n",
        "\n"
      ]
    },
    {
      "cell_type": "code",
      "execution_count": null,
      "metadata": {
        "id": "LioqnE3i0s4Q"
      },
      "outputs": [],
      "source": [
        "# Create training transform with TrivialAugment\n",
        "train_transform_trivial_augment = transforms.Compose([\n",
        "    transforms.Resize((64, 64)),\n",
        "    transforms.TrivialAugmentWide(num_magnitude_bins=31),\n",
        "    transforms.ToTensor()\n",
        "])\n",
        "\n",
        "# Create testing transform (no data augmentation)\n",
        "test_transform = transforms.Compose([\n",
        "    transforms.Resize((64, 64)),\n",
        "    transforms.ToTensor()\n",
        "])"
      ]
    },
    {
      "cell_type": "markdown",
      "metadata": {
        "id": "3MjuYetwpwqU"
      },
      "source": [
        "### Loading image data using ImageFolder"
      ]
    },
    {
      "cell_type": "code",
      "execution_count": null,
      "metadata": {
        "colab": {
          "base_uri": "https://localhost:8080/"
        },
        "id": "Ww5lRIa70s8l",
        "outputId": "13b6127c-c830-4b86-a017-0aab070b38e8"
      },
      "outputs": [
        {
          "data": {
            "text/plain": [
              "(Dataset ImageFolder\n",
              "     Number of datapoints: 600\n",
              "     Root location: /content/drive/MyDrive/AUTO EVAL/dataset-grayscale/train\n",
              "     StandardTransform\n",
              " Transform: Compose(\n",
              "                Resize(size=(64, 64), interpolation=bilinear, max_size=None, antialias=True)\n",
              "                TrivialAugmentWide(num_magnitude_bins=31, interpolation=InterpolationMode.NEAREST, fill=None)\n",
              "                ToTensor()\n",
              "            ),\n",
              " Dataset ImageFolder\n",
              "     Number of datapoints: 150\n",
              "     Root location: /content/drive/MyDrive/AUTO EVAL/dataset-grayscale/test\n",
              "     StandardTransform\n",
              " Transform: Compose(\n",
              "                Resize(size=(64, 64), interpolation=bilinear, max_size=None, antialias=True)\n",
              "                ToTensor()\n",
              "            ))"
            ]
          },
          "execution_count": 7,
          "metadata": {},
          "output_type": "execute_result"
        }
      ],
      "source": [
        "from torchvision import datasets\n",
        "# Turn image folders into Datasets\n",
        "train_data_augmented = datasets.ImageFolder(train_dir, transform=train_transform_trivial_augment)\n",
        "test_data_simple = datasets.ImageFolder(test_dir, transform=test_transform)\n",
        "\n",
        "train_data_augmented, test_data_simple"
      ]
    },
    {
      "cell_type": "code",
      "execution_count": null,
      "metadata": {
        "colab": {
          "base_uri": "https://localhost:8080/"
        },
        "id": "fgYgIteiPdw7",
        "outputId": "482da82f-cc2a-4bea-f72b-d0e5c451adb3"
      },
      "outputs": [
        {
          "data": {
            "text/plain": [
              "['false', 'none', 'true']"
            ]
          },
          "execution_count": 8,
          "metadata": {},
          "output_type": "execute_result"
        }
      ],
      "source": [
        "class_names = train_data_augmented.classes\n",
        "class_names"
      ]
    },
    {
      "cell_type": "markdown",
      "metadata": {
        "id": "0tSDmBxdqgOf"
      },
      "source": [
        "### Turning our Dataset into DataLoader's to make them iterable"
      ]
    },
    {
      "cell_type": "code",
      "execution_count": null,
      "metadata": {
        "colab": {
          "base_uri": "https://localhost:8080/"
        },
        "id": "ZpmJoLdWRZ_5",
        "outputId": "2a4f6d7f-32b7-42f4-a58f-c74ba3fb6d28"
      },
      "outputs": [
        {
          "data": {
            "text/plain": [
              "(<torch.utils.data.dataloader.DataLoader at 0x7915183afeb0>,\n",
              " <torch.utils.data.dataloader.DataLoader at 0x7915183aee60>)"
            ]
          },
          "execution_count": 9,
          "metadata": {},
          "output_type": "execute_result"
        }
      ],
      "source": [
        "from torch.utils.data import DataLoader\n",
        "import os\n",
        "BATCH_SIZE = 32\n",
        "NUM_WORKERS = os.cpu_count()\n",
        "\n",
        "torch.manual_seed(42)\n",
        "train_dataloader_augmented = DataLoader(train_data_augmented,\n",
        "                                        batch_size=BATCH_SIZE,\n",
        "                                        shuffle=True,\n",
        "                                        num_workers=NUM_WORKERS)\n",
        "\n",
        "test_dataloader_simple = DataLoader(test_data_simple,\n",
        "                                    batch_size=BATCH_SIZE,\n",
        "                                    shuffle=False,\n",
        "                                    num_workers=NUM_WORKERS)\n",
        "\n",
        "train_dataloader_augmented, test_dataloader_simple"
      ]
    },
    {
      "cell_type": "markdown",
      "metadata": {
        "id": "Ty3Hh_Eoqzt1"
      },
      "source": [
        "### Download helper functions from github repo"
      ]
    },
    {
      "cell_type": "code",
      "execution_count": null,
      "metadata": {
        "colab": {
          "base_uri": "https://localhost:8080/"
        },
        "id": "75xDjRshRaFE",
        "outputId": "64800618-a386-4c28-d0a6-8407c40392e3"
      },
      "outputs": [
        {
          "name": "stdout",
          "output_type": "stream",
          "text": [
            "helper_functions.py already exists, skipping download\n"
          ]
        }
      ],
      "source": [
        "import requests\n",
        "from pathlib import Path\n",
        "\n",
        "# Download helper functions from Learn PyTorch repo (if not already downloaded)\n",
        "if Path(\"helper_functions.py\").is_file():\n",
        "  print(\"helper_functions.py already exists, skipping download\")\n",
        "else:\n",
        "  print(\"Downloading helper_functions.py\")\n",
        "  # Note: you need the \"raw\" GitHub URL for this to work\n",
        "  request = requests.get(\"https://raw.githubusercontent.com/mrdbourke/pytorch-deep-learning/main/helper_functions.py\")\n",
        "  with open(\"helper_functions.py\", \"wb\") as f:\n",
        "    f.write(request.content)"
      ]
    },
    {
      "cell_type": "code",
      "execution_count": null,
      "metadata": {
        "id": "Kkm-7BaFW0kq"
      },
      "outputs": [],
      "source": [
        "from timeit import default_timer as timer\n",
        "def print_train_time(start: float, end: float, device: torch.device = None):\n",
        "    \"\"\"Prints difference between start and end time.\n",
        "\n",
        "    Args:\n",
        "        start (float): Start time of computation (preferred in timeit format).\n",
        "        end (float): End time of computation.\n",
        "        device ([type], optional): Device that compute is running on. Defaults to None.\n",
        "\n",
        "    Returns:\n",
        "        float: time between start and end in seconds (higher is longer).\n",
        "    \"\"\"\n",
        "    total_time = end - start\n",
        "    print(f\"Train time on {device}: {total_time:.3f} seconds\")\n",
        "    return total_time"
      ]
    },
    {
      "cell_type": "markdown",
      "metadata": {
        "id": "BtO396OPrH4n"
      },
      "source": [
        "### Device agnostic code setup"
      ]
    },
    {
      "cell_type": "code",
      "execution_count": null,
      "metadata": {
        "colab": {
          "base_uri": "https://localhost:8080/",
          "height": 36
        },
        "id": "hExjGgHBZi7a",
        "outputId": "75322022-5139-4a1b-e007-b3b7f3c8c9f2"
      },
      "outputs": [
        {
          "data": {
            "application/vnd.google.colaboratory.intrinsic+json": {
              "type": "string"
            },
            "text/plain": [
              "'cpu'"
            ]
          },
          "execution_count": 12,
          "metadata": {},
          "output_type": "execute_result"
        }
      ],
      "source": [
        "import torch\n",
        "device = \"cuda\" if torch.cuda.is_available() else \"cpu\"\n",
        "device"
      ]
    },
    {
      "cell_type": "markdown",
      "metadata": {
        "id": "Cr7NWmCsrX5-"
      },
      "source": [
        "\n",
        "### Create training and testing loop\n",
        "\n",
        "#### train_step() - takes in a model, a DataLoader, a loss function and an optimizer and trains the model on the DataLoader\n",
        "#### test_step() - takes in a model, a DataLoader and a loss function and evaluates the model on the DataLoader.\n",
        "#### train() - performs 1. and 2. together for a given number of epochs and returns a results dictionary."
      ]
    },
    {
      "cell_type": "code",
      "execution_count": null,
      "metadata": {
        "id": "yPqXiO4Zof0y"
      },
      "outputs": [],
      "source": [
        "def train_step(model: torch.nn.Module,\n",
        "               dataloader: torch.utils.data.DataLoader,\n",
        "               loss_fn: torch.nn.Module,\n",
        "               optimizer: torch.optim.Optimizer):\n",
        "    # Put model in train mode\n",
        "    model.train()\n",
        "\n",
        "    # Setup train loss and train accuracy values\n",
        "    train_loss, train_acc = 0, 0\n",
        "\n",
        "    # Loop through data loader data batches\n",
        "    for batch, (X, y) in enumerate(dataloader):\n",
        "        # Send data to target device\n",
        "        X, y = X.to(device), y.to(device)\n",
        "\n",
        "        # 1. Forward pass\n",
        "        y_pred = model(X)\n",
        "\n",
        "        # 2. Calculate  and accumulate loss\n",
        "        loss = loss_fn(y_pred, y)\n",
        "        train_loss += loss.item()\n",
        "\n",
        "        # 3. Optimizer zero grad\n",
        "        optimizer.zero_grad()\n",
        "\n",
        "        # 4. Loss backward\n",
        "        loss.backward()\n",
        "\n",
        "        # 5. Optimizer step\n",
        "        optimizer.step()\n",
        "\n",
        "        # Calculate and accumulate accuracy metric across all batches\n",
        "        y_pred_class = torch.argmax(torch.softmax(y_pred, dim=1), dim=1)\n",
        "        train_acc += (y_pred_class == y).sum().item()/len(y_pred)\n",
        "\n",
        "    # Adjust metrics to get average loss and accuracy per batch\n",
        "    train_loss = train_loss / len(dataloader)\n",
        "    train_acc = train_acc / len(dataloader)\n",
        "    return train_loss, train_acc"
      ]
    },
    {
      "cell_type": "code",
      "execution_count": null,
      "metadata": {
        "id": "Aa6sIxZIohfd"
      },
      "outputs": [],
      "source": [
        "def test_step(model: torch.nn.Module,\n",
        "              dataloader: torch.utils.data.DataLoader,\n",
        "              loss_fn: torch.nn.Module):\n",
        "    # Put model in eval mode\n",
        "    model.eval()\n",
        "\n",
        "    # Setup test loss and test accuracy values\n",
        "    test_loss, test_acc = 0, 0\n",
        "\n",
        "    # Turn on inference context manager\n",
        "    with torch.inference_mode():\n",
        "        # Loop through DataLoader batches\n",
        "        for batch, (X, y) in enumerate(dataloader):\n",
        "            # Send data to target device\n",
        "            X, y = X.to(device), y.to(device)\n",
        "\n",
        "            # 1. Forward pass\n",
        "            test_pred_logits = model(X)\n",
        "\n",
        "            # 2. Calculate and accumulate loss\n",
        "            loss = loss_fn(test_pred_logits, y)\n",
        "            test_loss += loss.item()\n",
        "\n",
        "            # Calculate and accumulate accuracy\n",
        "            test_pred_labels = test_pred_logits.argmax(dim=1)\n",
        "            test_acc += ((test_pred_labels == y).sum().item()/len(test_pred_labels))\n",
        "\n",
        "    # Adjust metrics to get average loss and accuracy per batch\n",
        "    test_loss = test_loss / len(dataloader)\n",
        "    test_acc = test_acc / len(dataloader)\n",
        "    return test_loss, test_acc"
      ]
    },
    {
      "cell_type": "code",
      "execution_count": null,
      "metadata": {
        "id": "eZrhw_q3Z4-7"
      },
      "outputs": [],
      "source": [
        "from tqdm.auto import tqdm\n",
        "\n",
        "# 1. Take in various parameters required for training and test steps\n",
        "def train(model: torch.nn.Module,\n",
        "          train_dataloader: torch.utils.data.DataLoader,\n",
        "          test_dataloader: torch.utils.data.DataLoader,\n",
        "          optimizer: torch.optim.Optimizer,\n",
        "          loss_fn: torch.nn.Module = nn.CrossEntropyLoss(),\n",
        "          epochs: int = 5):\n",
        "\n",
        "    # 2. Create empty results dictionary\n",
        "    results = {\"train_loss\": [],\n",
        "        \"train_acc\": [],\n",
        "        \"test_loss\": [],\n",
        "        \"test_acc\": []\n",
        "    }\n",
        "\n",
        "    # 3. Loop through training and testing steps for a number of epochs\n",
        "    for epoch in tqdm(range(epochs)):\n",
        "        train_loss, train_acc = train_step(model=model,\n",
        "                                           dataloader=train_dataloader,\n",
        "                                           loss_fn=loss_fn,\n",
        "                                           optimizer=optimizer)\n",
        "        test_loss, test_acc = test_step(model=model,\n",
        "            dataloader=test_dataloader,\n",
        "            loss_fn=loss_fn)\n",
        "\n",
        "        if scheduler:\n",
        "            scheduler.step()\n",
        "            print(f\"Epoch: {epoch+1} | Current LR: {scheduler.get_last_lr()[0]:.6f}\")\n",
        "\n",
        "\n",
        "        # 4. Print out what's happening\n",
        "        print(\n",
        "            f\"Epoch: {epoch+1} | \"\n",
        "            f\"train_loss: {train_loss:.4f} | \"\n",
        "            f\"train_acc: {train_acc:.4f} | \"\n",
        "            f\"test_loss: {test_loss:.4f} | \"\n",
        "            f\"test_acc: {test_acc:.4f}\"\n",
        "        )\n",
        "\n",
        "        # 5. Update results dictionary\n",
        "        results[\"train_loss\"].append(train_loss)\n",
        "        results[\"train_acc\"].append(train_acc)\n",
        "        results[\"test_loss\"].append(test_loss)\n",
        "        results[\"test_acc\"].append(test_acc)\n",
        "\n",
        "    # 6. Return the filled results at the end of the epochs\n",
        "    return results"
      ]
    },
    {
      "cell_type": "markdown",
      "metadata": {
        "id": "cXU9-3EosMzy"
      },
      "source": [
        "### TinyVGG CNN Model"
      ]
    },
    {
      "cell_type": "code",
      "execution_count": null,
      "metadata": {
        "colab": {
          "base_uri": "https://localhost:8080/"
        },
        "id": "KOzcWj3daj1y",
        "outputId": "3e375dd0-d9a3-495c-c70f-1bc6dcd657d8"
      },
      "outputs": [
        {
          "data": {
            "text/plain": [
              "TinyVGG(\n",
              "  (conv_block_1): Sequential(\n",
              "    (0): Conv2d(3, 25, kernel_size=(3, 3), stride=(1, 1), padding=(1, 1))\n",
              "    (1): BatchNorm2d(25, eps=1e-05, momentum=0.1, affine=True, track_running_stats=True)\n",
              "    (2): ReLU()\n",
              "    (3): Conv2d(25, 25, kernel_size=(3, 3), stride=(1, 1), padding=(1, 1))\n",
              "    (4): BatchNorm2d(25, eps=1e-05, momentum=0.1, affine=True, track_running_stats=True)\n",
              "    (5): ReLU()\n",
              "    (6): MaxPool2d(kernel_size=2, stride=2, padding=0, dilation=1, ceil_mode=False)\n",
              "  )\n",
              "  (conv_block_2): Sequential(\n",
              "    (0): Conv2d(25, 25, kernel_size=(3, 3), stride=(1, 1), padding=(1, 1))\n",
              "    (1): BatchNorm2d(25, eps=1e-05, momentum=0.1, affine=True, track_running_stats=True)\n",
              "    (2): ReLU()\n",
              "    (3): Conv2d(25, 25, kernel_size=(3, 3), stride=(1, 1), padding=(1, 1))\n",
              "    (4): BatchNorm2d(25, eps=1e-05, momentum=0.1, affine=True, track_running_stats=True)\n",
              "    (5): ReLU()\n",
              "    (6): MaxPool2d(kernel_size=2, stride=2, padding=0, dilation=1, ceil_mode=False)\n",
              "  )\n",
              "  (classifier): Sequential(\n",
              "    (0): Flatten(start_dim=1, end_dim=-1)\n",
              "    (1): Linear(in_features=6400, out_features=3, bias=True)\n",
              "  )\n",
              ")"
            ]
          },
          "execution_count": 16,
          "metadata": {},
          "output_type": "execute_result"
        }
      ],
      "source": [
        "class TinyVGG(nn.Module):\n",
        "    def __init__(self, input_shape: int, hidden_units: int, output_shape: int) -> None:\n",
        "        super().__init__()\n",
        "        self.conv_block_1 = nn.Sequential(\n",
        "            nn.Conv2d(in_channels=input_shape, out_channels=hidden_units, kernel_size=3, stride=1, padding=1),\n",
        "            nn.BatchNorm2d(hidden_units),  # Add BatchNorm here\n",
        "            nn.ReLU(),\n",
        "            nn.Conv2d(in_channels=hidden_units, out_channels=hidden_units, kernel_size=3, stride=1, padding=1),\n",
        "            nn.BatchNorm2d(hidden_units),  # Add BatchNorm here\n",
        "            nn.ReLU(),\n",
        "            nn.MaxPool2d(kernel_size=2, stride=2)\n",
        "        )\n",
        "        self.conv_block_2 = nn.Sequential(\n",
        "            nn.Conv2d(hidden_units, hidden_units, kernel_size=3, padding=1),\n",
        "            nn.BatchNorm2d(hidden_units),  # Add BatchNorm here\n",
        "            nn.ReLU(),\n",
        "            nn.Conv2d(hidden_units, hidden_units, kernel_size=3, padding=1),\n",
        "            nn.BatchNorm2d(hidden_units),  # Add BatchNorm here\n",
        "            nn.ReLU(),\n",
        "            nn.MaxPool2d(2)\n",
        "        )\n",
        "        self.classifier = nn.Sequential(\n",
        "            nn.Flatten(),\n",
        "            nn.Linear(in_features=hidden_units*16*16, out_features=output_shape)\n",
        "        )\n",
        "\n",
        "    def forward(self, x: torch.Tensor):\n",
        "        x = self.conv_block_1(x)\n",
        "        x = self.conv_block_2(x)\n",
        "        x = self.classifier(x)\n",
        "        return x\n",
        "\n",
        "# Create model_2 and send it to the target device\n",
        "torch.manual_seed(42)\n",
        "model_2 = TinyVGG(\n",
        "    input_shape=3,\n",
        "    hidden_units=25,\n",
        "    output_shape=len(train_data_augmented.classes)).to(device)\n",
        "model_2"
      ]
    },
    {
      "cell_type": "markdown",
      "metadata": {
        "id": "eFl-3lXss4zF"
      },
      "source": [
        "### Train and Evaluate model_2"
      ]
    },
    {
      "cell_type": "code",
      "execution_count": null,
      "metadata": {
        "colab": {
          "base_uri": "https://localhost:8080/",
          "height": 1000,
          "referenced_widgets": [
            "bdc16d18a4414aa2a885531678e03f22",
            "bf59acb59d65454ea48252bdd39c4fb2",
            "53e9e36094f9429aaf4a6caacee1b897",
            "3f4946e07373448faecbeec4097ac863",
            "985ddf08c481475995129203fc554b9f",
            "9f00b552139849bfb0401bc34f587215",
            "85f13952aa6e4b4da900dda1ce45d57c",
            "6409d1f1cd514e409a5a13ce7be418cb",
            "cd2fa8be941c4025924c8578e47ee1d6",
            "1ad7458caef74dd4abab7c3a8b6fa3b1",
            "285c9e81008c439586a609b8a18d2eb5"
          ]
        },
        "id": "W1kfpc00bCuQ",
        "outputId": "8d84a866-f7a7-4771-81b8-856009c33b76"
      },
      "outputs": [
        {
          "data": {
            "application/vnd.jupyter.widget-view+json": {
              "model_id": "bdc16d18a4414aa2a885531678e03f22",
              "version_major": 2,
              "version_minor": 0
            },
            "text/plain": [
              "  0%|          | 0/80 [00:00<?, ?it/s]"
            ]
          },
          "metadata": {},
          "output_type": "display_data"
        },
        {
          "name": "stdout",
          "output_type": "stream",
          "text": [
            "Epoch: 1 | Current LR: 0.000900\n",
            "Epoch: 1 | train_loss: 1.3796 | train_acc: 0.4600 | test_loss: 1.0666 | test_acc: 0.3375\n",
            "Epoch: 2 | Current LR: 0.000810\n",
            "Epoch: 2 | train_loss: 1.0194 | train_acc: 0.5291 | test_loss: 0.8331 | test_acc: 0.6892\n",
            "Epoch: 3 | Current LR: 0.000729\n",
            "Epoch: 3 | train_loss: 0.9568 | train_acc: 0.5543 | test_loss: 0.9344 | test_acc: 0.4955\n",
            "Epoch: 4 | Current LR: 0.000656\n",
            "Epoch: 4 | train_loss: 0.9450 | train_acc: 0.5817 | test_loss: 0.8044 | test_acc: 0.5960\n",
            "Epoch: 5 | Current LR: 0.000590\n",
            "Epoch: 5 | train_loss: 0.9607 | train_acc: 0.5543 | test_loss: 0.6753 | test_acc: 0.7045\n",
            "Epoch: 6 | Current LR: 0.000531\n",
            "Epoch: 6 | train_loss: 0.8701 | train_acc: 0.5762 | test_loss: 0.8063 | test_acc: 0.5852\n",
            "Epoch: 7 | Current LR: 0.000478\n",
            "Epoch: 7 | train_loss: 0.9157 | train_acc: 0.5548 | test_loss: 0.6389 | test_acc: 0.7261\n",
            "Epoch: 8 | Current LR: 0.000430\n",
            "Epoch: 8 | train_loss: 0.7949 | train_acc: 0.6086 | test_loss: 0.6085 | test_acc: 0.7585\n",
            "Epoch: 9 | Current LR: 0.000387\n",
            "Epoch: 9 | train_loss: 0.7099 | train_acc: 0.6820 | test_loss: 0.5795 | test_acc: 0.6955\n",
            "Epoch: 10 | Current LR: 0.000349\n",
            "Epoch: 10 | train_loss: 0.7174 | train_acc: 0.6667 | test_loss: 0.5707 | test_acc: 0.7585\n",
            "Epoch: 11 | Current LR: 0.000314\n",
            "Epoch: 11 | train_loss: 0.6790 | train_acc: 0.6924 | test_loss: 0.5282 | test_acc: 0.7460\n",
            "Epoch: 12 | Current LR: 0.000282\n",
            "Epoch: 12 | train_loss: 0.6526 | train_acc: 0.6930 | test_loss: 0.6483 | test_acc: 0.7438\n",
            "Epoch: 13 | Current LR: 0.000254\n",
            "Epoch: 13 | train_loss: 0.6761 | train_acc: 0.6716 | test_loss: 0.7033 | test_acc: 0.6892\n",
            "Epoch: 14 | Current LR: 0.000229\n",
            "Epoch: 14 | train_loss: 0.6354 | train_acc: 0.7182 | test_loss: 0.5338 | test_acc: 0.7386\n",
            "Epoch: 15 | Current LR: 0.000206\n",
            "Epoch: 15 | train_loss: 0.6094 | train_acc: 0.7209 | test_loss: 0.5232 | test_acc: 0.7352\n",
            "Epoch: 16 | Current LR: 0.000185\n",
            "Epoch: 16 | train_loss: 0.5794 | train_acc: 0.7484 | test_loss: 0.4708 | test_acc: 0.7858\n",
            "Epoch: 17 | Current LR: 0.000167\n",
            "Epoch: 17 | train_loss: 0.5616 | train_acc: 0.7500 | test_loss: 0.5217 | test_acc: 0.7449\n",
            "Epoch: 18 | Current LR: 0.000150\n",
            "Epoch: 18 | train_loss: 0.5288 | train_acc: 0.7769 | test_loss: 0.5389 | test_acc: 0.7301\n",
            "Epoch: 19 | Current LR: 0.000135\n",
            "Epoch: 19 | train_loss: 0.5485 | train_acc: 0.7664 | test_loss: 0.4646 | test_acc: 0.7790\n",
            "Epoch: 20 | Current LR: 0.000122\n",
            "Epoch: 20 | train_loss: 0.5766 | train_acc: 0.7495 | test_loss: 0.4322 | test_acc: 0.8006\n",
            "Epoch: 21 | Current LR: 0.000109\n",
            "Epoch: 21 | train_loss: 0.5474 | train_acc: 0.7725 | test_loss: 0.4448 | test_acc: 0.8068\n",
            "Epoch: 22 | Current LR: 0.000098\n",
            "Epoch: 22 | train_loss: 0.5342 | train_acc: 0.7911 | test_loss: 0.4293 | test_acc: 0.8011\n",
            "Epoch: 23 | Current LR: 0.000089\n",
            "Epoch: 23 | train_loss: 0.5398 | train_acc: 0.7834 | test_loss: 0.4251 | test_acc: 0.7977\n",
            "Epoch: 24 | Current LR: 0.000080\n",
            "Epoch: 24 | train_loss: 0.5449 | train_acc: 0.7780 | test_loss: 0.4568 | test_acc: 0.7864\n",
            "Epoch: 25 | Current LR: 0.000072\n",
            "Epoch: 25 | train_loss: 0.5285 | train_acc: 0.7664 | test_loss: 0.4383 | test_acc: 0.7886\n",
            "Epoch: 26 | Current LR: 0.000065\n",
            "Epoch: 26 | train_loss: 0.4524 | train_acc: 0.8163 | test_loss: 0.4165 | test_acc: 0.8392\n",
            "Epoch: 27 | Current LR: 0.000058\n",
            "Epoch: 27 | train_loss: 0.5077 | train_acc: 0.7725 | test_loss: 0.4158 | test_acc: 0.8011\n",
            "Epoch: 28 | Current LR: 0.000052\n",
            "Epoch: 28 | train_loss: 0.4645 | train_acc: 0.8257 | test_loss: 0.4207 | test_acc: 0.7886\n",
            "Epoch: 29 | Current LR: 0.000047\n",
            "Epoch: 29 | train_loss: 0.5222 | train_acc: 0.8015 | test_loss: 0.4202 | test_acc: 0.8352\n",
            "Epoch: 30 | Current LR: 0.000042\n",
            "Epoch: 30 | train_loss: 0.4781 | train_acc: 0.8065 | test_loss: 0.4104 | test_acc: 0.8170\n",
            "Epoch: 31 | Current LR: 0.000038\n",
            "Epoch: 31 | train_loss: 0.4962 | train_acc: 0.7851 | test_loss: 0.4151 | test_acc: 0.8170\n",
            "Epoch: 32 | Current LR: 0.000034\n",
            "Epoch: 32 | train_loss: 0.4687 | train_acc: 0.7944 | test_loss: 0.4097 | test_acc: 0.8165\n",
            "Epoch: 33 | Current LR: 0.000031\n",
            "Epoch: 33 | train_loss: 0.4869 | train_acc: 0.8125 | test_loss: 0.4138 | test_acc: 0.8165\n",
            "Epoch: 34 | Current LR: 0.000028\n",
            "Epoch: 34 | train_loss: 0.4761 | train_acc: 0.8054 | test_loss: 0.4120 | test_acc: 0.8074\n",
            "Epoch: 35 | Current LR: 0.000025\n",
            "Epoch: 35 | train_loss: 0.4764 | train_acc: 0.8158 | test_loss: 0.4031 | test_acc: 0.8261\n",
            "Epoch: 36 | Current LR: 0.000023\n",
            "Epoch: 36 | train_loss: 0.5011 | train_acc: 0.7900 | test_loss: 0.4022 | test_acc: 0.8261\n",
            "Epoch: 37 | Current LR: 0.000020\n",
            "Epoch: 37 | train_loss: 0.4524 | train_acc: 0.8224 | test_loss: 0.4091 | test_acc: 0.8290\n",
            "Epoch: 38 | Current LR: 0.000018\n",
            "Epoch: 38 | train_loss: 0.4757 | train_acc: 0.8059 | test_loss: 0.4046 | test_acc: 0.8324\n",
            "Epoch: 39 | Current LR: 0.000016\n",
            "Epoch: 39 | train_loss: 0.4593 | train_acc: 0.8152 | test_loss: 0.4095 | test_acc: 0.8227\n",
            "Epoch: 40 | Current LR: 0.000015\n",
            "Epoch: 40 | train_loss: 0.5006 | train_acc: 0.8098 | test_loss: 0.4008 | test_acc: 0.8386\n",
            "Epoch: 41 | Current LR: 0.000013\n",
            "Epoch: 41 | train_loss: 0.4604 | train_acc: 0.8147 | test_loss: 0.3994 | test_acc: 0.8261\n",
            "Epoch: 42 | Current LR: 0.000012\n",
            "Epoch: 42 | train_loss: 0.4699 | train_acc: 0.8098 | test_loss: 0.3994 | test_acc: 0.8352\n",
            "Epoch: 43 | Current LR: 0.000011\n",
            "Epoch: 43 | train_loss: 0.4783 | train_acc: 0.8169 | test_loss: 0.4036 | test_acc: 0.8227\n",
            "Epoch: 44 | Current LR: 0.000010\n",
            "Epoch: 44 | train_loss: 0.4420 | train_acc: 0.8366 | test_loss: 0.3991 | test_acc: 0.8324\n",
            "Epoch: 45 | Current LR: 0.000009\n",
            "Epoch: 45 | train_loss: 0.4606 | train_acc: 0.8114 | test_loss: 0.3934 | test_acc: 0.8199\n",
            "Epoch: 46 | Current LR: 0.000008\n",
            "Epoch: 46 | train_loss: 0.4676 | train_acc: 0.8037 | test_loss: 0.3985 | test_acc: 0.8415\n",
            "Epoch: 47 | Current LR: 0.000007\n",
            "Epoch: 47 | train_loss: 0.4535 | train_acc: 0.8202 | test_loss: 0.3990 | test_acc: 0.8290\n",
            "Epoch: 48 | Current LR: 0.000006\n",
            "Epoch: 48 | train_loss: 0.4617 | train_acc: 0.8311 | test_loss: 0.3960 | test_acc: 0.8261\n",
            "Epoch: 49 | Current LR: 0.000006\n",
            "Epoch: 49 | train_loss: 0.4670 | train_acc: 0.8070 | test_loss: 0.3952 | test_acc: 0.8290\n",
            "Epoch: 50 | Current LR: 0.000005\n",
            "Epoch: 50 | train_loss: 0.4695 | train_acc: 0.8169 | test_loss: 0.3954 | test_acc: 0.8324\n",
            "Epoch: 51 | Current LR: 0.000005\n",
            "Epoch: 51 | train_loss: 0.4550 | train_acc: 0.8169 | test_loss: 0.3943 | test_acc: 0.8415\n",
            "Epoch: 52 | Current LR: 0.000004\n",
            "Epoch: 52 | train_loss: 0.4709 | train_acc: 0.8163 | test_loss: 0.3952 | test_acc: 0.8352\n",
            "Epoch: 53 | Current LR: 0.000004\n",
            "Epoch: 53 | train_loss: 0.4587 | train_acc: 0.8207 | test_loss: 0.3924 | test_acc: 0.8352\n",
            "Epoch: 54 | Current LR: 0.000003\n",
            "Epoch: 54 | train_loss: 0.4684 | train_acc: 0.8026 | test_loss: 0.3947 | test_acc: 0.8415\n",
            "Epoch: 55 | Current LR: 0.000003\n",
            "Epoch: 55 | train_loss: 0.4564 | train_acc: 0.8152 | test_loss: 0.3917 | test_acc: 0.8352\n",
            "Epoch: 56 | Current LR: 0.000003\n",
            "Epoch: 56 | train_loss: 0.4679 | train_acc: 0.8180 | test_loss: 0.3900 | test_acc: 0.8261\n",
            "Epoch: 57 | Current LR: 0.000002\n",
            "Epoch: 57 | train_loss: 0.4835 | train_acc: 0.8059 | test_loss: 0.3937 | test_acc: 0.8261\n",
            "Epoch: 58 | Current LR: 0.000002\n",
            "Epoch: 58 | train_loss: 0.4810 | train_acc: 0.8043 | test_loss: 0.3962 | test_acc: 0.8290\n",
            "Epoch: 59 | Current LR: 0.000002\n",
            "Epoch: 59 | train_loss: 0.4748 | train_acc: 0.8185 | test_loss: 0.3935 | test_acc: 0.8290\n",
            "Epoch: 60 | Current LR: 0.000002\n",
            "Epoch: 60 | train_loss: 0.4303 | train_acc: 0.8350 | test_loss: 0.3932 | test_acc: 0.8352\n",
            "Epoch: 61 | Current LR: 0.000002\n",
            "Epoch: 61 | train_loss: 0.4726 | train_acc: 0.8114 | test_loss: 0.3915 | test_acc: 0.8290\n",
            "Epoch: 62 | Current LR: 0.000001\n",
            "Epoch: 62 | train_loss: 0.4846 | train_acc: 0.8213 | test_loss: 0.3914 | test_acc: 0.8261\n",
            "Epoch: 63 | Current LR: 0.000001\n",
            "Epoch: 63 | train_loss: 0.4641 | train_acc: 0.7999 | test_loss: 0.3930 | test_acc: 0.8352\n",
            "Epoch: 64 | Current LR: 0.000001\n",
            "Epoch: 64 | train_loss: 0.4341 | train_acc: 0.8394 | test_loss: 0.3909 | test_acc: 0.8290\n",
            "Epoch: 65 | Current LR: 0.000001\n",
            "Epoch: 65 | train_loss: 0.4747 | train_acc: 0.8065 | test_loss: 0.3942 | test_acc: 0.8477\n",
            "Epoch: 66 | Current LR: 0.000001\n",
            "Epoch: 66 | train_loss: 0.4273 | train_acc: 0.8251 | test_loss: 0.3912 | test_acc: 0.8352\n",
            "Epoch: 67 | Current LR: 0.000001\n",
            "Epoch: 67 | train_loss: 0.4390 | train_acc: 0.8218 | test_loss: 0.3944 | test_acc: 0.8352\n",
            "Epoch: 68 | Current LR: 0.000001\n",
            "Epoch: 68 | train_loss: 0.4504 | train_acc: 0.8213 | test_loss: 0.3916 | test_acc: 0.8415\n",
            "Epoch: 69 | Current LR: 0.000001\n",
            "Epoch: 69 | train_loss: 0.4849 | train_acc: 0.8087 | test_loss: 0.3950 | test_acc: 0.8352\n",
            "Epoch: 70 | Current LR: 0.000001\n",
            "Epoch: 70 | train_loss: 0.4915 | train_acc: 0.8076 | test_loss: 0.3938 | test_acc: 0.8352\n",
            "Epoch: 71 | Current LR: 0.000001\n",
            "Epoch: 71 | train_loss: 0.4272 | train_acc: 0.8432 | test_loss: 0.3918 | test_acc: 0.8352\n",
            "Epoch: 72 | Current LR: 0.000001\n",
            "Epoch: 72 | train_loss: 0.4769 | train_acc: 0.8087 | test_loss: 0.3933 | test_acc: 0.8290\n",
            "Epoch: 73 | Current LR: 0.000000\n",
            "Epoch: 73 | train_loss: 0.4630 | train_acc: 0.8098 | test_loss: 0.3939 | test_acc: 0.8352\n",
            "Epoch: 74 | Current LR: 0.000000\n",
            "Epoch: 74 | train_loss: 0.4768 | train_acc: 0.8081 | test_loss: 0.3966 | test_acc: 0.8290\n",
            "Epoch: 75 | Current LR: 0.000000\n",
            "Epoch: 75 | train_loss: 0.4375 | train_acc: 0.8229 | test_loss: 0.3951 | test_acc: 0.8352\n",
            "Epoch: 76 | Current LR: 0.000000\n",
            "Epoch: 76 | train_loss: 0.4736 | train_acc: 0.8103 | test_loss: 0.3943 | test_acc: 0.8290\n",
            "Epoch: 77 | Current LR: 0.000000\n",
            "Epoch: 77 | train_loss: 0.4522 | train_acc: 0.8125 | test_loss: 0.3957 | test_acc: 0.8415\n",
            "Epoch: 78 | Current LR: 0.000000\n",
            "Epoch: 78 | train_loss: 0.4524 | train_acc: 0.8240 | test_loss: 0.3939 | test_acc: 0.8415\n",
            "Epoch: 79 | Current LR: 0.000000\n",
            "Epoch: 79 | train_loss: 0.4947 | train_acc: 0.8130 | test_loss: 0.3939 | test_acc: 0.8352\n",
            "Epoch: 80 | Current LR: 0.000000\n",
            "Epoch: 80 | train_loss: 0.4615 | train_acc: 0.8125 | test_loss: 0.3937 | test_acc: 0.8290\n",
            "Total training time: 1593.087 seconds\n"
          ]
        }
      ],
      "source": [
        "# Set random seeds\n",
        "torch.manual_seed(42)\n",
        "torch.cuda.manual_seed(42)\n",
        "\n",
        "# Set number of epochs\n",
        "NUM_EPOCHS = 80\n",
        "\n",
        "# Setup loss function and optimizer\n",
        "loss_fn = nn.CrossEntropyLoss()\n",
        "optimizer = torch.optim.Adam(params=model_2.parameters(), lr=0.001)\n",
        "\n",
        "scheduler = StepLR(optimizer, step_size=1, gamma=0.9)\n",
        "\n",
        "# Start the timer\n",
        "from timeit import default_timer as timer\n",
        "start_time = timer()\n",
        "\n",
        "# Train model_2\n",
        "model_2_results = train(model=model_2,\n",
        "                        train_dataloader=train_dataloader_augmented,\n",
        "                        test_dataloader=test_dataloader_simple,\n",
        "                        optimizer=optimizer,\n",
        "                        loss_fn=loss_fn,\n",
        "                        epochs=NUM_EPOCHS)\n",
        "\n",
        "# End the timer and print out how long it took\n",
        "end_time = timer()\n",
        "print(f\"Total training time: {end_time-start_time:.3f} seconds\")"
      ]
    },
    {
      "cell_type": "code",
      "execution_count": null,
      "metadata": {
        "colab": {
          "base_uri": "https://localhost:8080/"
        },
        "id": "jNDopEnGHkiR",
        "outputId": "6c7a6e32-b018-4516-cabb-421bffc80e4c"
      },
      "outputs": [
        {
          "data": {
            "text/plain": [
              "dict_keys(['train_loss', 'train_acc', 'test_loss', 'test_acc'])"
            ]
          },
          "execution_count": 18,
          "metadata": {},
          "output_type": "execute_result"
        }
      ],
      "source": [
        "model_2_results.keys()"
      ]
    },
    {
      "cell_type": "markdown",
      "metadata": {
        "id": "4NQjszu0tB45"
      },
      "source": [
        "### Evaluate the model by plotting the loss curves"
      ]
    },
    {
      "cell_type": "code",
      "execution_count": null,
      "metadata": {
        "id": "tLdH9vHIHmnP"
      },
      "outputs": [],
      "source": [
        "def plot_loss_curves(results : dict[str, list[float]]):\n",
        "\n",
        "  loss = results['train_loss']\n",
        "  test_loss = results['test_loss']\n",
        "\n",
        "  accuracy = results['train_acc']\n",
        "  test_accuracy = results['test_acc']\n",
        "\n",
        "  epochs = range(len(results['train_loss']))\n",
        "\n",
        "  plt.figure(figsize=(15, 7))\n",
        "\n",
        "  #plot loss\n",
        "  plt.subplot(1,2,1)\n",
        "  plt.plot(epochs, loss, label = 'train_loss')\n",
        "  plt.plot(epochs, test_loss, label = 'test_loss')\n",
        "  plt.title('Loss')\n",
        "  plt.xlabel('Epochs')\n",
        "  plt.legend()\n",
        "\n",
        "  #plot accuracy\n",
        "  plt.subplot(1,2,2)\n",
        "  plt.plot(epochs, accuracy, label = 'train_acc')\n",
        "  plt.plot(epochs, test_accuracy, label = 'test_accuracy')\n",
        "  plt.title('Accuracy')\n",
        "  plt.xlabel('Epochs')\n",
        "  plt.legend()"
      ]
    },
    {
      "cell_type": "code",
      "execution_count": null,
      "metadata": {
        "colab": {
          "base_uri": "https://localhost:8080/",
          "height": 589
        },
        "id": "2gwvkxGRKoZq",
        "outputId": "784e4964-aed7-4d95-d0f8-fd4bb63e7edd"
      },
      "outputs": [
        {
          "data": {
            "image/png": "[encoded data removed]",
            "text/plain": [
              "<Figure size 1500x700 with 2 Axes>"
            ]
          },
          "metadata": {},
          "output_type": "display_data"
        }
      ],
      "source": [
        "plot_loss_curves(model_2_results)"
      ]
    },
    {
      "cell_type": "markdown",
      "metadata": {
        "id": "NNjCzMIetjFg"
      },
      "source": [
        "### Save the model"
      ]
    },
    {
      "cell_type": "code",
      "execution_count": null,
      "metadata": {
        "id": "JBluG02VRCDZ"
      },
      "outputs": [],
      "source": [
        "model_path = \"TINYVGG-GRAY-test_acc-82.90-train_acc-81.25.pth\"\n",
        "torch.save(model_2.state_dict(), model_path)"
      ]
    },
    {
      "cell_type": "code",
      "execution_count": null,
      "metadata": {
        "colab": {
          "base_uri": "https://localhost:8080/",
          "height": 17
        },
        "id": "bZxHMF7MRXEu",
        "outputId": "320ec106-0a8a-4967-d717-ea21fe0f41aa"
      },
      "outputs": [
        {
          "data": {
            "application/javascript": "\n    async function download(id, filename, size) {\n      if (!google.colab.kernel.accessAllowed) {\n        return;\n      }\n      const div = document.createElement('div');\n      const label = document.createElement('label');\n      label.textContent = `Downloading \"${filename}\": `;\n      div.appendChild(label);\n      const progress = document.createElement('progress');\n      progress.max = size;\n      div.appendChild(progress);\n      document.body.appendChild(div);\n\n      const buffers = [];\n      let downloaded = 0;\n\n      const channel = await google.colab.kernel.comms.open(id);\n      // Send a message to notify the kernel that we're ready.\n      channel.send({})\n\n      for await (const message of channel.messages) {\n        // Send a message to notify the kernel that we're ready.\n        channel.send({})\n        if (message.buffers) {\n          for (const buffer of message.buffers) {\n            buffers.push(buffer);\n            downloaded += buffer.byteLength;\n            progress.value = downloaded;\n          }\n        }\n      }\n      const blob = new Blob(buffers, {type: 'application/binary'});\n      const a = document.createElement('a');\n      a.href = window.URL.createObjectURL(blob);\n      a.download = filename;\n      div.appendChild(a);\n      a.click();\n      div.remove();\n    }\n  ",
            "text/plain": [
              "<IPython.core.display.Javascript object>"
            ]
          },
          "metadata": {},
          "output_type": "display_data"
        },
        {
          "data": {
            "application/javascript": "download(\"download_c45e5f01-52eb-4371-95e6-c817552a2ed9\", \"TINYVGG-GRAY-test_acc-82.90-train_acc-81.25.pth\", 160708)",
            "text/plain": [
              "<IPython.core.display.Javascript object>"
            ]
          },
          "metadata": {},
          "output_type": "display_data"
        }
      ],
      "source": [
        "# from google.colab import files\n",
        "# files.download(model_path)"
      ]
    }
  ],
  "metadata": {
    "accelerator": "GPU",
    "colab": {
      "gpuType": "T4",
      "provenance": []
    },
    "kernelspec": {
      "display_name": "Python 3",
      "name": "python3"
    },
    "language_info": {
      "name": "python"
    },
    "widgets": {
      "application/vnd.jupyter.widget-state+json": {
        "1ad7458caef74dd4abab7c3a8b6fa3b1": {
          "model_module": "@jupyter-widgets/base",
          "model_module_version": "1.2.0",
          "model_name": "LayoutModel",
          "state": {
            "_model_module": "@jupyter-widgets/base",
            "_model_module_version": "1.2.0",
            "_model_name": "LayoutModel",
            "_view_count": null,
            "_view_module": "@jupyter-widgets/base",
            "_view_module_version": "1.2.0",
            "_view_name": "LayoutView",
            "align_content": null,
            "align_items": null,
            "align_self": null,
            "border": null,
            "bottom": null,
            "display": null,
            "flex": null,
            "flex_flow": null,
            "grid_area": null,
            "grid_auto_columns": null,
            "grid_auto_flow": null,
            "grid_auto_rows": null,
            "grid_column": null,
            "grid_gap": null,
            "grid_row": null,
            "grid_template_areas": null,
            "grid_template_columns": null,
            "grid_template_rows": null,
            "height": null,
            "justify_content": null,
            "justify_items": null,
            "left": null,
            "margin": null,
            "max_height": null,
            "max_width": null,
            "min_height": null,
            "min_width": null,
            "object_fit": null,
            "object_position": null,
            "order": null,
            "overflow": null,
            "overflow_x": null,
            "overflow_y": null,
            "padding": null,
            "right": null,
            "top": null,
            "visibility": null,
            "width": null
          }
        },
        "285c9e81008c439586a609b8a18d2eb5": {
          "model_module": "@jupyter-widgets/controls",
          "model_module_version": "1.5.0",
          "model_name": "DescriptionStyleModel",
          "state": {
            "_model_module": "@jupyter-widgets/controls",
            "_model_module_version": "1.5.0",
            "_model_name": "DescriptionStyleModel",
            "_view_count": null,
            "_view_module": "@jupyter-widgets/base",
            "_view_module_version": "1.2.0",
            "_view_name": "StyleView",
            "description_width": ""
          }
        },
        "3f4946e07373448faecbeec4097ac863": {
          "model_module": "@jupyter-widgets/controls",
          "model_module_version": "1.5.0",
          "model_name": "HTMLModel",
          "state": {
            "_dom_classes": [],
            "_model_module": "@jupyter-widgets/controls",
            "_model_module_version": "1.5.0",
            "_model_name": "HTMLModel",
            "_view_count": null,
            "_view_module": "@jupyter-widgets/controls",
            "_view_module_version": "1.5.0",
            "_view_name": "HTMLView",
            "description": "",
            "description_tooltip": null,
            "layout": "IPY_MODEL_1ad7458caef74dd4abab7c3a8b6fa3b1",
            "placeholder": "​",
            "style": "IPY_MODEL_285c9e81008c439586a609b8a18d2eb5",
            "value": " 80/80 [26:33&lt;00:00, 21.08s/it]"
          }
        },
        "53e9e36094f9429aaf4a6caacee1b897": {
          "model_module": "@jupyter-widgets/controls",
          "model_module_version": "1.5.0",
          "model_name": "FloatProgressModel",
          "state": {
            "_dom_classes": [],
            "_model_module": "@jupyter-widgets/controls",
            "_model_module_version": "1.5.0",
            "_model_name": "FloatProgressModel",
            "_view_count": null,
            "_view_module": "@jupyter-widgets/controls",
            "_view_module_version": "1.5.0",
            "_view_name": "ProgressView",
            "bar_style": "success",
            "description": "",
            "description_tooltip": null,
            "layout": "IPY_MODEL_6409d1f1cd514e409a5a13ce7be418cb",
            "max": 80,
            "min": 0,
            "orientation": "horizontal",
            "style": "IPY_MODEL_cd2fa8be941c4025924c8578e47ee1d6",
            "value": 80
          }
        },
        "6409d1f1cd514e409a5a13ce7be418cb": {
          "model_module": "@jupyter-widgets/base",
          "model_module_version": "1.2.0",
          "model_name": "LayoutModel",
          "state": {
            "_model_module": "@jupyter-widgets/base",
            "_model_module_version": "1.2.0",
            "_model_name": "LayoutModel",
            "_view_count": null,
            "_view_module": "@jupyter-widgets/base",
            "_view_module_version": "1.2.0",
            "_view_name": "LayoutView",
            "align_content": null,
            "align_items": null,
            "align_self": null,
            "border": null,
            "bottom": null,
            "display": null,
            "flex": null,
            "flex_flow": null,
            "grid_area": null,
            "grid_auto_columns": null,
            "grid_auto_flow": null,
            "grid_auto_rows": null,
            "grid_column": null,
            "grid_gap": null,
            "grid_row": null,
            "grid_template_areas": null,
            "grid_template_columns": null,
            "grid_template_rows": null,
            "height": null,
            "justify_content": null,
            "justify_items": null,
            "left": null,
            "margin": null,
            "max_height": null,
            "max_width": null,
            "min_height": null,
            "min_width": null,
            "object_fit": null,
            "object_position": null,
            "order": null,
            "overflow": null,
            "overflow_x": null,
            "overflow_y": null,
            "padding": null,
            "right": null,
            "top": null,
            "visibility": null,
            "width": null
          }
        },
        "85f13952aa6e4b4da900dda1ce45d57c": {
          "model_module": "@jupyter-widgets/controls",
          "model_module_version": "1.5.0",
          "model_name": "DescriptionStyleModel",
          "state": {
            "_model_module": "@jupyter-widgets/controls",
            "_model_module_version": "1.5.0",
            "_model_name": "DescriptionStyleModel",
            "_view_count": null,
            "_view_module": "@jupyter-widgets/base",
            "_view_module_version": "1.2.0",
            "_view_name": "StyleView",
            "description_width": ""
          }
        },
        "985ddf08c481475995129203fc554b9f": {
          "model_module": "@jupyter-widgets/base",
          "model_module_version": "1.2.0",
          "model_name": "LayoutModel",
          "state": {
            "_model_module": "@jupyter-widgets/base",
            "_model_module_version": "1.2.0",
            "_model_name": "LayoutModel",
            "_view_count": null,
            "_view_module": "@jupyter-widgets/base",
            "_view_module_version": "1.2.0",
            "_view_name": "LayoutView",
            "align_content": null,
            "align_items": null,
            "align_self": null,
            "border": null,
            "bottom": null,
            "display": null,
            "flex": null,
            "flex_flow": null,
            "grid_area": null,
            "grid_auto_columns": null,
            "grid_auto_flow": null,
            "grid_auto_rows": null,
            "grid_column": null,
            "grid_gap": null,
            "grid_row": null,
            "grid_template_areas": null,
            "grid_template_columns": null,
            "grid_template_rows": null,
            "height": null,
            "justify_content": null,
            "justify_items": null,
            "left": null,
            "margin": null,
            "max_height": null,
            "max_width": null,
            "min_height": null,
            "min_width": null,
            "object_fit": null,
            "object_position": null,
            "order": null,
            "overflow": null,
            "overflow_x": null,
            "overflow_y": null,
            "padding": null,
            "right": null,
            "top": null,
            "visibility": null,
            "width": null
          }
        },
        "9f00b552139849bfb0401bc34f587215": {
          "model_module": "@jupyter-widgets/base",
          "model_module_version": "1.2.0",
          "model_name": "LayoutModel",
          "state": {
            "_model_module": "@jupyter-widgets/base",
            "_model_module_version": "1.2.0",
            "_model_name": "LayoutModel",
            "_view_count": null,
            "_view_module": "@jupyter-widgets/base",
            "_view_module_version": "1.2.0",
            "_view_name": "LayoutView",
            "align_content": null,
            "align_items": null,
            "align_self": null,
            "border": null,
            "bottom": null,
            "display": null,
            "flex": null,
            "flex_flow": null,
            "grid_area": null,
            "grid_auto_columns": null,
            "grid_auto_flow": null,
            "grid_auto_rows": null,
            "grid_column": null,
            "grid_gap": null,
            "grid_row": null,
            "grid_template_areas": null,
            "grid_template_columns": null,
            "grid_template_rows": null,
            "height": null,
            "justify_content": null,
            "justify_items": null,
            "left": null,
            "margin": null,
            "max_height": null,
            "max_width": null,
            "min_height": null,
            "min_width": null,
            "object_fit": null,
            "object_position": null,
            "order": null,
            "overflow": null,
            "overflow_x": null,
            "overflow_y": null,
            "padding": null,
            "right": null,
            "top": null,
            "visibility": null,
            "width": null
          }
        },
        "bdc16d18a4414aa2a885531678e03f22": {
          "model_module": "@jupyter-widgets/controls",
          "model_module_version": "1.5.0",
          "model_name": "HBoxModel",
          "state": {
            "_dom_classes": [],
            "_model_module": "@jupyter-widgets/controls",
            "_model_module_version": "1.5.0",
            "_model_name": "HBoxModel",
            "_view_count": null,
            "_view_module": "@jupyter-widgets/controls",
            "_view_module_version": "1.5.0",
            "_view_name": "HBoxView",
            "box_style": "",
            "children": [
              "IPY_MODEL_bf59acb59d65454ea48252bdd39c4fb2",
              "IPY_MODEL_53e9e36094f9429aaf4a6caacee1b897",
              "IPY_MODEL_3f4946e07373448faecbeec4097ac863"
            ],
            "layout": "IPY_MODEL_985ddf08c481475995129203fc554b9f"
          }
        },
        "bf59acb59d65454ea48252bdd39c4fb2": {
          "model_module": "@jupyter-widgets/controls",
          "model_module_version": "1.5.0",
          "model_name": "HTMLModel",
          "state": {
            "_dom_classes": [],
            "_model_module": "@jupyter-widgets/controls",
            "_model_module_version": "1.5.0",
            "_model_name": "HTMLModel",
            "_view_count": null,
            "_view_module": "@jupyter-widgets/controls",
            "_view_module_version": "1.5.0",
            "_view_name": "HTMLView",
            "description": "",
            "description_tooltip": null,
            "layout": "IPY_MODEL_9f00b552139849bfb0401bc34f587215",
            "placeholder": "​",
            "style": "IPY_MODEL_85f13952aa6e4b4da900dda1ce45d57c",
            "value": "100%"
          }
        },
        "cd2fa8be941c4025924c8578e47ee1d6": {
          "model_module": "@jupyter-widgets/controls",
          "model_module_version": "1.5.0",
          "model_name": "ProgressStyleModel",
          "state": {
            "_model_module": "@jupyter-widgets/controls",
            "_model_module_version": "1.5.0",
            "_model_name": "ProgressStyleModel",
            "_view_count": null,
            "_view_module": "@jupyter-widgets/base",
            "_view_module_version": "1.2.0",
            "_view_name": "StyleView",
            "bar_color": null,
            "description_width": ""
          }
        }
      }
    }
  },
  "nbformat": 4,
  "nbformat_minor": 0
}
